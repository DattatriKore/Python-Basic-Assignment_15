{
 "cells": [
  {
   "cell_type": "markdown",
   "id": "e0438ec9",
   "metadata": {},
   "source": [
    "Q.[1] : How many seconds are in an hour? Use the interactive interpreter as a calculator and multiply the number of seconds\n",
    "        in a minute(60) by the number of minutes in an hour (also 60).\n",
    "\n",
    "Ans:- 3600"
   ]
  },
  {
   "cell_type": "code",
   "execution_count": 2,
   "id": "5ad10763",
   "metadata": {},
   "outputs": [
    {
     "data": {
      "text/plain": [
       "3600"
      ]
     },
     "execution_count": 2,
     "metadata": {},
     "output_type": "execute_result"
    }
   ],
   "source": [
    "60 * 60"
   ]
  },
  {
   "cell_type": "markdown",
   "id": "9e0d7bd3",
   "metadata": {},
   "source": [
    "Q.[2] : Assign the result from the previous task (seconds in an hour) to a variable called seconds_per_hour.\n",
    "    \n",
    "Ans:-  seconds_per_hour = 3600"
   ]
  },
  {
   "cell_type": "code",
   "execution_count": 4,
   "id": "37b0e5bb",
   "metadata": {},
   "outputs": [
    {
     "data": {
      "text/plain": [
       "3600"
      ]
     },
     "execution_count": 4,
     "metadata": {},
     "output_type": "execute_result"
    }
   ],
   "source": [
    "seconds_per_hour = 60 * 60\n",
    "seconds_per_hour"
   ]
  },
  {
   "cell_type": "markdown",
   "id": "f35fe073",
   "metadata": {},
   "source": [
    "Q.[3] : How many seconds do you think there are in a day? Make use of the variables seconds per hour and minutes per hour.\n",
    "    \n",
    "Ans:- second_in_a_day = 86400"
   ]
  },
  {
   "cell_type": "code",
   "execution_count": 6,
   "id": "fd2bbca2",
   "metadata": {},
   "outputs": [
    {
     "data": {
      "text/plain": [
       "86400"
      ]
     },
     "execution_count": 6,
     "metadata": {},
     "output_type": "execute_result"
    }
   ],
   "source": [
    "one_day  = 24\n",
    "second_in_a_day = 24 * seconds_per_hour\n",
    "second_in_a_day"
   ]
  },
  {
   "cell_type": "markdown",
   "id": "bdce9f27",
   "metadata": {},
   "source": [
    "Q.[4] : Calculate seconds per day again, but this time save the result in a variable called seconds_per_day\n",
    "    \n",
    "Ans:- seconds_per_day = 86400"
   ]
  },
  {
   "cell_type": "code",
   "execution_count": 11,
   "id": "133e2227",
   "metadata": {},
   "outputs": [
    {
     "data": {
      "text/plain": [
       "86400"
      ]
     },
     "execution_count": 11,
     "metadata": {},
     "output_type": "execute_result"
    }
   ],
   "source": [
    "seconds_per_day =  24 * seconds_per_hour\n",
    "seconds_per_day "
   ]
  },
  {
   "cell_type": "markdown",
   "id": "fbf05fd3",
   "metadata": {},
   "source": [
    "Q.[5] : Divide seconds_per_day by seconds_per_hour. Use floating-point (/) division.\n",
    "    \n",
    "Ans:- seconds_per_day/seconds_per_hour = 24.0"
   ]
  },
  {
   "cell_type": "code",
   "execution_count": 12,
   "id": "23dea8dc",
   "metadata": {},
   "outputs": [
    {
     "data": {
      "text/plain": [
       "24.0"
      ]
     },
     "execution_count": 12,
     "metadata": {},
     "output_type": "execute_result"
    }
   ],
   "source": [
    "seconds_per_day/seconds_per_hour"
   ]
  },
  {
   "cell_type": "markdown",
   "id": "286e7abd",
   "metadata": {},
   "source": [
    "Q.[6] : Divide seconds_per_day by seconds_per_hour, using integer (//) division. Did this number agree with the \n",
    "        floating-point value from the previous question, aside from the final .0?\n",
    "        \n",
    "Ans:- Yes"
   ]
  },
  {
   "cell_type": "code",
   "execution_count": 15,
   "id": "d7e43912",
   "metadata": {},
   "outputs": [
    {
     "data": {
      "text/plain": [
       "24"
      ]
     },
     "execution_count": 15,
     "metadata": {},
     "output_type": "execute_result"
    }
   ],
   "source": [
    "seconds_per_day // seconds_per_hour"
   ]
  },
  {
   "cell_type": "markdown",
   "id": "76dc25bb",
   "metadata": {},
   "source": [
    "Q.[7] : Write a generator, genPrimes, that returns the sequence of prime numbers on successive calls to its next()\n",
    "        method: 2, 3, 5, 7, 11, ...\n",
    "            \n",
    "Ans:- "
   ]
  },
  {
   "cell_type": "code",
   "execution_count": 16,
   "id": "76901f89",
   "metadata": {},
   "outputs": [],
   "source": [
    "def genPrimes():\n",
    "    primes = []\n",
    "    n = 2\n",
    "    last = n\n",
    "\n",
    "    while True:\n",
    "        for i in primes:\n",
    "            if n % i == 0:\n",
    "                n += 1\n",
    "                break\n",
    "\n",
    "        else:\n",
    "            primes.append(n)\n",
    "            last = n\n",
    "            n += 1\n",
    "            yield last"
   ]
  },
  {
   "cell_type": "code",
   "execution_count": 18,
   "id": "60a4d70d",
   "metadata": {},
   "outputs": [
    {
     "data": {
      "text/plain": [
       "<generator object genPrimes at 0x000002701310E270>"
      ]
     },
     "execution_count": 18,
     "metadata": {},
     "output_type": "execute_result"
    }
   ],
   "source": [
    "genPrimes()"
   ]
  },
  {
   "cell_type": "code",
   "execution_count": null,
   "id": "bd0eb7b5",
   "metadata": {},
   "outputs": [],
   "source": []
  }
 ],
 "metadata": {
  "kernelspec": {
   "display_name": "Python 3 (ipykernel)",
   "language": "python",
   "name": "python3"
  },
  "language_info": {
   "codemirror_mode": {
    "name": "ipython",
    "version": 3
   },
   "file_extension": ".py",
   "mimetype": "text/x-python",
   "name": "python",
   "nbconvert_exporter": "python",
   "pygments_lexer": "ipython3",
   "version": "3.9.13"
  }
 },
 "nbformat": 4,
 "nbformat_minor": 5
}
